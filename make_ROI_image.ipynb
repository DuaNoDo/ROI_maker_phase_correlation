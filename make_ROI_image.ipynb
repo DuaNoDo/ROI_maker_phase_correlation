{
 "cells": [
  {
   "cell_type": "code",
   "execution_count": 1,
   "metadata": {},
   "outputs": [],
   "source": [
    "def phase_correlation(a, b):\n",
    "    G_a = np.fft.fft2(a)\n",
    "    G_b = np.fft.fft2(b)\n",
    "    conj_b = np.ma.conjugate(G_b)\n",
    "    R = G_a*conj_b\n",
    "    R /= np.absolute(R)\n",
    "    r = np.fft.ifft2(R).real\n",
    "    return r"
   ]
  },
  {
   "cell_type": "code",
   "execution_count": 1,
   "metadata": {},
   "outputs": [],
   "source": [
    "from scipy import misc\n",
    "from matplotlib import pyplot\n",
    "import numpy as np\n",
    "from PIL import Image\n",
    "#Get two images with snippet at different locations\n",
    "import matplotlib.pyplot as plt\n",
    "\n",
    "def phase_correlation(a, b):\n",
    "    G_a = np.fft.fft2(a)\n",
    "    G_b = np.fft.fft2(b)\n",
    "    conj_b = np.ma.conjugate(G_b)\n",
    "    R = G_a*conj_b\n",
    "    R /= np.absolute(R)\n",
    "    r = np.fft.ifft2(R).real\n",
    "    return r\n",
    "\n",
    "def find_roi(a, b):\n",
    "# a이미지가 이전 시간대의 ROI, b가 ROI를 찾을 full scene\n",
    "    im2 = np.mean(Image.open(b), axis=-1)\n",
    "    im1 = np.zeros(im2.shape)\n",
    "    img_load = np.mean(Image.open(a), axis=-1)\n",
    "    im1[:img_load.shape[0],:img_load.shape[1]] = img_load\n",
    "    im1 = im1.astype(np.uint8)\n",
    "\n",
    "    corrimg = phase_correlation(im2, im1)\n",
    "\n",
    "    r,c = np.unravel_index(corrimg.argmax(), corrimg.shape)\n",
    "\n",
    "    return r,c\n",
    "\n"
   ]
  },
  {
   "cell_type": "code",
   "execution_count": 11,
   "metadata": {},
   "outputs": [],
   "source": [
    "from imutils import paths\n",
    "from os import path\n",
    "\n",
    "imgPath = \"data/\"\n",
    "ROIPath = imgPath + \"ROI/\"\n",
    "\n",
    "imagePaths = sorted(list(paths.list_images(imgPath)))\n",
    "image_arr = []\n",
    "pre_i = \"ROI/200908_212300.jpg\"\n",
    "\n",
    "for i in imagePaths:\n",
    "    r,c = find_roi( pre_i.replace(\"data/\",\"ROI/\"),i)\n",
    "    \n",
    "    image = Image.open(i).crop([c,r,c+220,r+200])\n",
    "    \n",
    "    pre_i = i\n",
    "    newPath = i.replace(\"data/\",\"ROI/\")\n",
    "    image.save(newPath)\n",
    "    \n",
    "    "
   ]
  }
 ],
 "metadata": {
  "kernelspec": {
   "display_name": "Python 3",
   "language": "python",
   "name": "python3"
  },
  "language_info": {
   "codemirror_mode": {
    "name": "ipython",
    "version": 3
   },
   "file_extension": ".py",
   "mimetype": "text/x-python",
   "name": "python",
   "nbconvert_exporter": "python",
   "pygments_lexer": "ipython3",
   "version": "3.7.3"
  }
 },
 "nbformat": 4,
 "nbformat_minor": 1
}
